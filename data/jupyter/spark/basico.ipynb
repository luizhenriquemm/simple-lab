{
 "cells": [
  {
   "cell_type": "code",
   "execution_count": 1,
   "metadata": {},
   "outputs": [],
   "source": [
    "from pyspark import SparkContext\n",
    "from pyspark.sql import SparkSession\n",
    "from pyspark.sql.functions import *\n",
    "from pyspark.sql.types import *\n",
    "\n",
    "sc = SparkContext()\n",
    "\n",
    "spark = SparkSession.builder.appName('meuappspark').config(\"spark.sql.repl.eagerEval.enabled\", True).getOrCreate()"
   ]
  },
  {
   "cell_type": "code",
   "execution_count": 2,
   "metadata": {},
   "outputs": [
    {
     "data": {
      "text/html": [
       "<table border='1'>\n",
       "<tr><th>idade</th><th>nome</th></tr>\n",
       "<tr><td>30</td><td>joao</td></tr>\n",
       "<tr><td>25</td><td>maria</td></tr>\n",
       "<tr><td>32</td><td>pedro</td></tr>\n",
       "</table>\n"
      ],
      "text/plain": [
       "+-----+-----+\n",
       "|idade| nome|\n",
       "+-----+-----+\n",
       "|   30| joao|\n",
       "|   25|maria|\n",
       "|   32|pedro|\n",
       "+-----+-----+"
      ]
     },
     "execution_count": 2,
     "metadata": {},
     "output_type": "execute_result"
    }
   ],
   "source": [
    "df = spark.createDataFrame([\n",
    "    {\"nome\": \"joao\", \"idade\": 30},\n",
    "    {\"nome\": \"maria\", \"idade\": 25},\n",
    "    {\"nome\": \"pedro\", \"idade\": 32}\n",
    "])\n",
    "\n",
    "df"
   ]
  }
 ],
 "metadata": {
  "kernelspec": {
   "display_name": "Python 3 (ipykernel)",
   "language": "python",
   "name": "python3"
  },
  "language_info": {
   "codemirror_mode": {
    "name": "ipython",
    "version": 3
   },
   "file_extension": ".py",
   "mimetype": "text/x-python",
   "name": "python",
   "nbconvert_exporter": "python",
   "pygments_lexer": "ipython3",
   "version": "3.11.6"
  }
 },
 "nbformat": 4,
 "nbformat_minor": 4
}
